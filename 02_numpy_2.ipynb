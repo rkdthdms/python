{
 "cells": [
  {
   "cell_type": "code",
   "execution_count": 1,
   "id": "ae5a423f",
   "metadata": {},
   "outputs": [],
   "source": [
    "import warnings\n",
    "warnings.filterwarnings(action='ignore')\n",
    "%config Computer.use_jedi = False\n",
    "import numpy as np\n",
    "\n",
    "def pprint(arr):\n",
    "    print('type: {}'.format(type(arr)))\n",
    "    print('shape: {}, dimension: {}, dtype: {}'.format(arr.shape, arr.ndim, arr.dtype))\n",
    "    print('numpy 배열의 데이터\\n', arr, sep='')"
   ]
  },
  {
   "cell_type": "markdown",
   "id": "85a2c0c3",
   "metadata": {},
   "source": [
    "numpy 파일 입출력\n",
    "\n",
    "numpy는 배열 객체를 바이너리(2진) 파일 또는 텍스트 파일에 저장하고 로딩하는 기능을 제공한다."
   ]
  },
  {
   "cell_type": "code",
   "execution_count": 2,
   "id": "65c12a7c",
   "metadata": {},
   "outputs": [],
   "source": [
    "# 메소드 이름    기능                                                   파일 포맷\n",
    "# save()         numpy 배열 객체 1개를 바이너리 파일로 저장한다.        바이너리\n",
    "# savez()        numpy 배열 객체 여러 개를 바이너리 파일로 저장한다.    바이너리\n",
    "# load()         numpy 배열 저장 파일로 부터 배열 객체를 읽어온다.      바이너리\n",
    "# ====================================================================================\n",
    "# savetxt()      numpy 배열 객체를 텍스트 파일로 저장한다.              텍스트\n",
    "# loadtxt()      텍스트 파일에 저장된 numpy 배열 객체를 읽어온다.       텍스트"
   ]
  },
  {
   "cell_type": "code",
   "execution_count": 3,
   "id": "0a6237e8",
   "metadata": {},
   "outputs": [
    {
     "name": "stdout",
     "output_type": "stream",
     "text": [
      "[[0 7 0]\n",
      " [7 2 4]]\n",
      "[[7 1 2]\n",
      " [4 3 9]]\n"
     ]
    }
   ],
   "source": [
    "a = np.random.randint(0, 10, (2, 3))\n",
    "print(a)\n",
    "b = np.random.randint(0, 10, (2, 3))\n",
    "print(b)"
   ]
  },
  {
   "cell_type": "markdown",
   "id": "ccabe873",
   "metadata": {},
   "source": [
    "numpy 배열 객체를 바이너리 파일로 저장"
   ]
  },
  {
   "cell_type": "code",
   "execution_count": 4,
   "id": "83c86163",
   "metadata": {},
   "outputs": [
    {
     "ename": "FileNotFoundError",
     "evalue": "[Errno 2] No such file or directory: './output/my_array1.npy'",
     "output_type": "error",
     "traceback": [
      "\u001b[1;31m---------------------------------------------------------------------------\u001b[0m",
      "\u001b[1;31mFileNotFoundError\u001b[0m                         Traceback (most recent call last)",
      "Cell \u001b[1;32mIn[4], line 7\u001b[0m\n\u001b[0;32m      1\u001b[0m \u001b[38;5;66;03m# save(), savez() 메소드를 사용해서 배열 객체를 바이너리(2진) 형태의 파일로 저장할 수 있다.\u001b[39;00m\n\u001b[0;32m      2\u001b[0m \u001b[38;5;66;03m# save(): 배열 1개를 저장한다. 확장명 => npy\u001b[39;00m\n\u001b[0;32m      3\u001b[0m \u001b[38;5;66;03m# savez(): 배열 여러 개를 저장한다. 확장명 => npz\u001b[39;00m\n\u001b[0;32m      4\u001b[0m \n\u001b[0;32m      5\u001b[0m \u001b[38;5;66;03m# a 배열을 바이너리 파일로 저장한다.\u001b[39;00m\n\u001b[0;32m      6\u001b[0m \u001b[38;5;66;03m# save('경로명', 배열명)\u001b[39;00m\n\u001b[1;32m----> 7\u001b[0m np\u001b[38;5;241m.\u001b[39msave(\u001b[38;5;124m'\u001b[39m\u001b[38;5;124m./output/my_array1\u001b[39m\u001b[38;5;124m'\u001b[39m, a)\n\u001b[0;32m      9\u001b[0m \u001b[38;5;66;03m# a, b 배열을 바이너리 파일로 저장한다.\u001b[39;00m\n\u001b[0;32m     10\u001b[0m \u001b[38;5;66;03m# savez('경로명', 배열명1, 배열명2, ...)\u001b[39;00m\n\u001b[0;32m     11\u001b[0m np\u001b[38;5;241m.\u001b[39msavez(\u001b[38;5;124m'\u001b[39m\u001b[38;5;124m./output/my_array2\u001b[39m\u001b[38;5;124m'\u001b[39m, a, b)\n",
      "File \u001b[1;32m<__array_function__ internals>:200\u001b[0m, in \u001b[0;36msave\u001b[1;34m(*args, **kwargs)\u001b[0m\n",
      "File \u001b[1;32m~\\anaconda3\\Lib\\site-packages\\numpy\\lib\\npyio.py:518\u001b[0m, in \u001b[0;36msave\u001b[1;34m(file, arr, allow_pickle, fix_imports)\u001b[0m\n\u001b[0;32m    516\u001b[0m     \u001b[38;5;28;01mif\u001b[39;00m \u001b[38;5;129;01mnot\u001b[39;00m file\u001b[38;5;241m.\u001b[39mendswith(\u001b[38;5;124m'\u001b[39m\u001b[38;5;124m.npy\u001b[39m\u001b[38;5;124m'\u001b[39m):\n\u001b[0;32m    517\u001b[0m         file \u001b[38;5;241m=\u001b[39m file \u001b[38;5;241m+\u001b[39m \u001b[38;5;124m'\u001b[39m\u001b[38;5;124m.npy\u001b[39m\u001b[38;5;124m'\u001b[39m\n\u001b[1;32m--> 518\u001b[0m     file_ctx \u001b[38;5;241m=\u001b[39m \u001b[38;5;28mopen\u001b[39m(file, \u001b[38;5;124m\"\u001b[39m\u001b[38;5;124mwb\u001b[39m\u001b[38;5;124m\"\u001b[39m)\n\u001b[0;32m    520\u001b[0m \u001b[38;5;28;01mwith\u001b[39;00m file_ctx \u001b[38;5;28;01mas\u001b[39;00m fid:\n\u001b[0;32m    521\u001b[0m     arr \u001b[38;5;241m=\u001b[39m np\u001b[38;5;241m.\u001b[39masanyarray(arr)\n",
      "\u001b[1;31mFileNotFoundError\u001b[0m: [Errno 2] No such file or directory: './output/my_array1.npy'"
     ]
    }
   ],
   "source": [
    "# save(), savez() 메소드를 사용해서 배열 객체를 바이너리(2진) 형태의 파일로 저장할 수 있다.\n",
    "# save(): 배열 1개를 저장한다. 확장명 => npy\n",
    "# savez(): 배열 여러 개를 저장한다. 확장명 => npz\n",
    "\n",
    "# a 배열을 바이너리 파일로 저장한다.\n",
    "# save('경로명', 배열명)\n",
    "np.save('./output/my_array1', a)\n",
    "\n",
    "# a, b 배열을 바이너리 파일로 저장한다.\n",
    "# savez('경로명', 배열명1, 배열명2, ...)\n",
    "np.savez('./output/my_array2', a, b)"
   ]
  },
  {
   "cell_type": "markdown",
   "id": "1eb56c54",
   "metadata": {},
   "source": [
    "바이너리 파일로 저장된 numpy 배열 객체 읽어오기"
   ]
  },
  {
   "cell_type": "code",
   "execution_count": null,
   "id": "ef3109a5",
   "metadata": {},
   "outputs": [],
   "source": [
    "# load() 메소드로 npy, npz 파일로 부터 데이터를 읽어올 수 있다.\n",
    "# npy 파일 읽기\n",
    "# 저장할 때는 메소드가 달라서 확장명이 다르게 붙기 때문에 파일명만 입력하면 되지만 읽어올 때는 읽어올 때는 메소드가\n",
    "# 같아서 확장명 까지 입력해야 한다.\n",
    "# load('경로명')\n",
    "print(np.load('./output/my_array1.npy'))"
   ]
  },
  {
   "cell_type": "code",
   "execution_count": null,
   "id": "c00a12fe",
   "metadata": {},
   "outputs": [],
   "source": [
    "# npz 파일 읽기\n",
    "print(np.load('./output/my_array2.npz'))\n",
    "npzFile = np.load('./output/my_array2.npz')\n",
    "print(npzFile['arr_0'])\n",
    "print(npzFile['arr_1'])"
   ]
  },
  {
   "cell_type": "markdown",
   "id": "4e7bd342",
   "metadata": {},
   "source": [
    "numpy 배열 객체를 텍스트 파일로 저장"
   ]
  },
  {
   "cell_type": "code",
   "execution_count": null,
   "id": "bb146aaa",
   "metadata": {},
   "outputs": [],
   "source": [
    "c = np.random.random((3, 4))\n",
    "print(c)"
   ]
  },
  {
   "cell_type": "code",
   "execution_count": null,
   "id": "f8dbb70d",
   "metadata": {},
   "outputs": [],
   "source": [
    "# 텍스트 파일은 확장명이 txt인 파일을 의미하는 것이 아니고 확장명이 csv 또는 tsv인 파일을 의미한다.\n",
    "# savetxt() 메소드로 배열 객체를 텍스트 파일 형태로 저장할 수 있다.\n",
    "# savetxt('경로명', 배열명, delimiter='구분자')\n",
    "np.savetxt('./output/saved.csv', c, delimiter=',') # csv 파일은 데이터를 ','로 구분한다.\n",
    "np.savetxt('./output/saved.tsv', c, delimiter='\\t') # tsv 파일은 데이터를 tab으로 구분한다."
   ]
  },
  {
   "cell_type": "markdown",
   "id": "4e022cc7",
   "metadata": {},
   "source": [
    "텍스트 파일로 저장된 numpy 배열 객체 읽어오기"
   ]
  },
  {
   "cell_type": "code",
   "execution_count": null,
   "id": "ece4dab0",
   "metadata": {},
   "outputs": [],
   "source": [
    "# loadtxt() 메소드로 텍스트 파일로 저장된 numpy 배열 객체를 읽어올 수 있다.\n",
    "# loadtxt('경로명', dtype, delimiter='구분자')\n",
    "print(np.loadtxt('./output/saved.csv', dtype=np.float, delimiter=','))\n",
    "print(np.loadtxt('./output/saved.tsv', dtype=np.int, delimiter='\\t'))"
   ]
  },
  {
   "cell_type": "markdown",
   "id": "ab0ca1d0",
   "metadata": {},
   "source": [
    "배열(행렬) 연산 - 산술 연산"
   ]
  },
  {
   "cell_type": "code",
   "execution_count": null,
   "id": "464498a0",
   "metadata": {},
   "outputs": [],
   "source": [
    "a = np.arange(1, 10).reshape(3, 3)\n",
    "pprint(a)\n",
    "b = np.arange(9, 0, -1).reshape(3, 3)\n",
    "pprint(b)"
   ]
  },
  {
   "cell_type": "code",
   "execution_count": null,
   "id": "c42b3a31",
   "metadata": {},
   "outputs": [],
   "source": [
    "# 덧셈: +, add()\n",
    "print(a + b)\n",
    "print(np.add(a, b))"
   ]
  },
  {
   "cell_type": "code",
   "execution_count": null,
   "id": "70249c97",
   "metadata": {},
   "outputs": [],
   "source": [
    "# 뺄셈: -, subtract()\n",
    "print(a - b)\n",
    "print(np.subtract(a, b))"
   ]
  },
  {
   "cell_type": "code",
   "execution_count": null,
   "id": "464dc35b",
   "metadata": {},
   "outputs": [],
   "source": [
    "# 곱셈: *, multiply()\n",
    "print(a * b)\n",
    "print(np.multiply(a, b))"
   ]
  },
  {
   "cell_type": "code",
   "execution_count": null,
   "id": "04f18b66",
   "metadata": {},
   "outputs": [],
   "source": [
    "# 나눗셈: /, divide()\n",
    "print(a / b)\n",
    "print(np.divide(a, b))"
   ]
  },
  {
   "cell_type": "code",
   "execution_count": null,
   "id": "21c27c8d",
   "metadata": {},
   "outputs": [],
   "source": [
    "print(a // b)\n",
    "print(a % b)"
   ]
  },
  {
   "cell_type": "code",
   "execution_count": null,
   "id": "d7eb9907",
   "metadata": {},
   "outputs": [],
   "source": [
    "# 지수\n",
    "print(np.exp(a))"
   ]
  },
  {
   "cell_type": "code",
   "execution_count": null,
   "id": "2117156e",
   "metadata": {},
   "outputs": [],
   "source": [
    "# 제곱근\n",
    "print(np.sqrt(a))"
   ]
  },
  {
   "cell_type": "code",
   "execution_count": null,
   "id": "2e53f356",
   "metadata": {},
   "outputs": [],
   "source": [
    "# 삼각함수\n",
    "print(np.sin(a))\n",
    "print(np.cos(a))\n",
    "print(np.tan(a))"
   ]
  },
  {
   "cell_type": "code",
   "execution_count": null,
   "id": "af4d582e",
   "metadata": {},
   "outputs": [],
   "source": [
    "# 로그\n",
    "print(np.log(a))"
   ]
  },
  {
   "cell_type": "code",
   "execution_count": null,
   "id": "d360efe1",
   "metadata": {},
   "outputs": [],
   "source": [
    "# 행렬의 내적\n",
    "print(np.dot(a, b))"
   ]
  },
  {
   "cell_type": "markdown",
   "id": "e3bd5e8e",
   "metadata": {},
   "source": [
    "<img src=\"./images/dot.png\" align=\"left\" width=\"800\"/>"
   ]
  },
  {
   "cell_type": "markdown",
   "id": "2044a335",
   "metadata": {},
   "source": [
    "배열(행렬) 연산 - 비교 연산"
   ]
  },
  {
   "cell_type": "code",
   "execution_count": null,
   "id": "69ddc343",
   "metadata": {},
   "outputs": [],
   "source": [
    "# 배열 요소별 비교: >, >=, <, <=, ==, !=\n",
    "print(a == b)"
   ]
  },
  {
   "cell_type": "code",
   "execution_count": null,
   "id": "7d752988",
   "metadata": {},
   "outputs": [],
   "source": [
    "# 배열 전체 비교: array_equal() 메소드\n",
    "print(np.array_equal(a, b))"
   ]
  },
  {
   "cell_type": "markdown",
   "id": "4a9db042",
   "metadata": {},
   "source": [
    "집계 함수\n",
    "\n",
    "numpy의 모든 집계 함수는 axis를 기준으로 게산하며 집계 함수에 axis를 지정하지 않으면 None이 기본값으로 사용된다."
   ]
  },
  {
   "cell_type": "code",
   "execution_count": null,
   "id": "e7ddf99b",
   "metadata": {},
   "outputs": [],
   "source": [
    "a = np.arange(1, 10).reshape(3, 3)\n",
    "pprint(a)"
   ]
  },
  {
   "cell_type": "markdown",
   "id": "ab25d775",
   "metadata": {},
   "source": [
    "합계: 넘파이배열.sum(), np.sum(넘파이배열)"
   ]
  },
  {
   "cell_type": "code",
   "execution_count": null,
   "id": "d856eccb",
   "metadata": {},
   "outputs": [],
   "source": [
    "# axis=None\n",
    "# axis=None은 전체 배열을 행과 열을 구분하지 않고 전체 합계를 계산한다. 생략시 기본값으로 사용된다.\n",
    "print(a.sum())\n",
    "print(a.sum(axis=None))\n",
    "print(np.sum(a))\n",
    "print(np.sum(a, axis=None))"
   ]
  },
  {
   "cell_type": "markdown",
   "id": "2e3f86d6",
   "metadata": {},
   "source": [
    "<img src=\"./images/numpyImage02.jpg\" align=\"left\" width=\"200\"/>"
   ]
  },
  {
   "cell_type": "code",
   "execution_count": null,
   "id": "ee02cca2",
   "metadata": {},
   "outputs": [],
   "source": [
    "# axis=0\n",
    "# axis=0은 행을 기준으로 각 행의 동일한 인덱스 요소를 그룹으로 계산한다. => 각 열의 합계\n",
    "print(a.sum(axis=0))\n",
    "print(np.sum(a, axis=0))"
   ]
  },
  {
   "cell_type": "markdown",
   "id": "0bf46b4e",
   "metadata": {},
   "source": [
    "<img src=\"./images/numpyImage03.jpg\" align=\"left\" width=\"200\"/>"
   ]
  },
  {
   "cell_type": "code",
   "execution_count": null,
   "id": "9c894b2d",
   "metadata": {},
   "outputs": [],
   "source": [
    "# axis=1\n",
    "# axis=1은 열을 기준으로 각 열의 동일한 인덱스 요소를 그룹으로 계산한다. => 각 행의 합계\n",
    "print(a.sum(axis=1))\n",
    "print(np.sum(a, axis=1))"
   ]
  },
  {
   "cell_type": "markdown",
   "id": "e956d8f0",
   "metadata": {},
   "source": [
    "<img src=\"./images/numpyImage04.jpg\" align=\"left\" width=\"200\"/>"
   ]
  },
  {
   "cell_type": "markdown",
   "id": "ee1312ce",
   "metadata": {},
   "source": [
    "최대값: 넘파이배열.max(), np.max(넘파이배열), 최소값: 넘파이배열.min(), np.min(넘파이배열)"
   ]
  },
  {
   "cell_type": "code",
   "execution_count": null,
   "id": "5470b5e1",
   "metadata": {},
   "outputs": [],
   "source": [
    "print(a.max()) # print(a.max(axis=None))\n",
    "print(np.max(a)) # print(np.max(a, axis=None))\n",
    "print(a.min()) # print(a.min(axis=None))\n",
    "print(np.min(a)) # print(np.min(a, axis=None))"
   ]
  },
  {
   "cell_type": "code",
   "execution_count": null,
   "id": "97276ec2",
   "metadata": {},
   "outputs": [],
   "source": [
    "print(a.max(axis=0))\n",
    "print(np.max(a, axis=0))\n",
    "print(a.min(axis=0))\n",
    "print(np.min(a, axis=0))"
   ]
  },
  {
   "cell_type": "code",
   "execution_count": null,
   "id": "f57a57cf",
   "metadata": {},
   "outputs": [],
   "source": [
    "print(a.max(axis=1))\n",
    "print(np.max(a, axis=1))\n",
    "print(a.min(axis=1))\n",
    "print(np.min(a, axis=1))"
   ]
  },
  {
   "cell_type": "markdown",
   "id": "0ff6107b",
   "metadata": {},
   "source": [
    "누적 합계: 넘파이배열.cumsum(), np.cumsum(넘파이배열)"
   ]
  },
  {
   "cell_type": "code",
   "execution_count": null,
   "id": "80b8932a",
   "metadata": {},
   "outputs": [],
   "source": [
    "print(a.cumsum()) # print(a.cumsum(axis=None))\n",
    "print(np.cumsum(a)) # print(np.cumsum(a, axis=None))"
   ]
  },
  {
   "cell_type": "code",
   "execution_count": null,
   "id": "dbff1f9e",
   "metadata": {},
   "outputs": [],
   "source": [
    "print(a.cumsum(axis=0))\n",
    "print(np.cumsum(a, axis=0))"
   ]
  },
  {
   "cell_type": "code",
   "execution_count": null,
   "id": "da046cfa",
   "metadata": {},
   "outputs": [],
   "source": [
    "print(a.cumsum(axis=1))\n",
    "print(np.cumsum(a, axis=1))"
   ]
  },
  {
   "cell_type": "markdown",
   "id": "64cce21d",
   "metadata": {},
   "source": [
    "평균: 넘파이배열.mean(), np.mean(넘파이배열)"
   ]
  },
  {
   "cell_type": "code",
   "execution_count": null,
   "id": "14470221",
   "metadata": {},
   "outputs": [],
   "source": [
    "print(a.mean()) # print(a.mean(axis=None))\n",
    "print(np.mean(a)) # print(np.mean(a, axis=None))"
   ]
  },
  {
   "cell_type": "code",
   "execution_count": null,
   "id": "fe111241",
   "metadata": {},
   "outputs": [],
   "source": [
    "print(a.mean(axis=0))\n",
    "print(np.mean(a, axis=0))"
   ]
  },
  {
   "cell_type": "code",
   "execution_count": null,
   "id": "d309b3b2",
   "metadata": {},
   "outputs": [],
   "source": [
    "print(a.mean(axis=1))\n",
    "print(np.mean(a, axis=1))"
   ]
  },
  {
   "cell_type": "markdown",
   "id": "e640c1f2",
   "metadata": {},
   "source": [
    "중위수: np.median(넘파이배열)"
   ]
  },
  {
   "cell_type": "code",
   "execution_count": null,
   "id": "7674630e",
   "metadata": {},
   "outputs": [],
   "source": [
    "print(np.median(a)) # print(np.mean(a, axis=None))\n",
    "print(np.median(a, axis=0))\n",
    "print(np.median(a, axis=1))"
   ]
  },
  {
   "cell_type": "markdown",
   "id": "899db6ec",
   "metadata": {},
   "source": [
    "상관계수: np.corrcoef(넘파이배열)"
   ]
  },
  {
   "cell_type": "code",
   "execution_count": null,
   "id": "899d5fcd",
   "metadata": {},
   "outputs": [],
   "source": [
    "print(np.corrcoef(a)) # axis를 사용하지 않는다."
   ]
  },
  {
   "cell_type": "markdown",
   "id": "5e287a75",
   "metadata": {},
   "source": [
    "표준편차: 넘파이배열.std(), np.std(넘파이배열)"
   ]
  },
  {
   "cell_type": "code",
   "execution_count": null,
   "id": "05b9b186",
   "metadata": {},
   "outputs": [],
   "source": [
    "print(a.std()) # print(a.std(axis=None))\n",
    "print(np.std(a)) # print(np.std(a, axis=None))"
   ]
  },
  {
   "cell_type": "code",
   "execution_count": null,
   "id": "5e3e1710",
   "metadata": {},
   "outputs": [],
   "source": [
    "print(a.std(axis=0))\n",
    "print(np.std(a, axis=0))"
   ]
  },
  {
   "cell_type": "code",
   "execution_count": null,
   "id": "55471883",
   "metadata": {},
   "outputs": [],
   "source": [
    "print(a.std(axis=1))\n",
    "print(np.std(a, axis=1))"
   ]
  },
  {
   "cell_type": "markdown",
   "id": "2cd1ad76",
   "metadata": {},
   "source": [
    "브로드 캐스팅 \n",
    "\n",
    "shape이 같은 두 배열에 대한 이항 연산은 배열 요소별로 실행된다. \n",
    "두 배열의 shape이 다를 경우 두 배열 간의 형상(모양)을 맞추는 그림과 같은 브로드캐스팅 과정을 거쳐서 실행된다. \n",
    "<img src=\"./images/numpyImage05.jpg\" align=\"center\" width=\"500\"/>"
   ]
  },
  {
   "cell_type": "code",
   "execution_count": 6,
   "id": "0d5c38ac",
   "metadata": {},
   "outputs": [
    {
     "name": "stdout",
     "output_type": "stream",
     "text": [
      "type: <class 'numpy.ndarray'>\n",
      "shape: (4, 6), dimension: 2, dtype: int32\n",
      "numpy 배열의 데이터\n",
      "[[ 1  2  3  4  5  6]\n",
      " [ 7  8  9 10 11 12]\n",
      " [13 14 15 16 17 18]\n",
      " [19 20 21 22 23 24]]\n",
      "type: <class 'numpy.ndarray'>\n",
      "shape: (4, 6), dimension: 2, dtype: int32\n",
      "numpy 배열의 데이터\n",
      "[[25 26 27 28 29 30]\n",
      " [31 32 33 34 35 36]\n",
      " [37 38 39 40 41 42]\n",
      " [43 44 45 46 47 48]]\n"
     ]
    }
   ],
   "source": [
    "a = np.arange(1, 25).reshape(4, 6)\n",
    "pprint(a)\n",
    "b = np.arange(25, 49).reshape(4, 6)\n",
    "pprint(b)"
   ]
  },
  {
   "cell_type": "code",
   "execution_count": 9,
   "id": "87415aed",
   "metadata": {},
   "outputs": [
    {
     "name": "stdout",
     "output_type": "stream",
     "text": [
      "[[26 28 30 32 34 36]\n",
      " [38 40 42 44 46 48]\n",
      " [50 52 54 56 58 60]\n",
      " [62 64 66 68 70 72]]\n"
     ]
    }
   ],
   "source": [
    "# shape이 같은 배열을 이항 연산할 경우 위치가 같은 요소 단위로 실행된다. \n",
    "print(a + b)"
   ]
  },
  {
   "cell_type": "code",
   "execution_count": 11,
   "id": "f3698d8b",
   "metadata": {},
   "outputs": [
    {
     "name": "stdout",
     "output_type": "stream",
     "text": [
      "[[ 1  2  3  4  5  6]\n",
      " [ 7  8  9 10 11 12]\n",
      " [13 14 15 16 17 18]\n",
      " [19 20 21 22 23 24]]\n",
      "[[101 102 103 104 105 106]\n",
      " [107 108 109 110 111 112]\n",
      " [113 114 115 116 117 118]\n",
      " [119 120 121 122 123 124]]\n"
     ]
    }
   ],
   "source": [
    "# 배열과 스칼라(단일 값)의 연산\n",
    "# 배열과 스칼라 사이의 이항 연산 시 스칼라를 배열로 변환한다. \n",
    "a = np.arange(1, 25).reshape(4, 6)\n",
    "print(a)\n",
    "print(a + 100)"
   ]
  },
  {
   "cell_type": "code",
   "execution_count": 14,
   "id": "ff0f8271",
   "metadata": {},
   "outputs": [
    {
     "name": "stdout",
     "output_type": "stream",
     "text": [
      "[[100 100 100 100 100 100]\n",
      " [100 100 100 100 100 100]\n",
      " [100 100 100 100 100 100]\n",
      " [100 100 100 100 100 100]]\n",
      "[[101 102 103 104 105 106]\n",
      " [107 108 109 110 111 112]\n",
      " [113 114 115 116 117 118]\n",
      " [119 120 121 122 123 124]]\n"
     ]
    }
   ],
   "source": [
    "# a + 100은 다음과 같은 과정을 거쳐서 처리된다. \n",
    "new_arr = np.full_like(a, 100)\n",
    "print(new_arr)\n",
    "print(a + new_arr)"
   ]
  },
  {
   "cell_type": "code",
   "execution_count": 17,
   "id": "97181452",
   "metadata": {},
   "outputs": [
    {
     "name": "stdout",
     "output_type": "stream",
     "text": [
      "[[0 1 2 3 4]]\n"
     ]
    }
   ],
   "source": [
    "# shape이 다른 배열의 연산 \n",
    "a = np.arange(5).reshape(1, 5)\n",
    "print(a)"
   ]
  },
  {
   "cell_type": "markdown",
   "id": "793d7cd1",
   "metadata": {},
   "source": [
    "벡터 연산 \n",
    "\n",
    "numpy는 벡터연산을 지원한다. \n",
    "numpy 집합 연산에는 벡터화 기능이 적용되어 있어서 벡터 처리에 대해 벡터 연산을 적용할 경우 처리 속도가 100배 이상 빠르다. "
   ]
  },
  {
   "cell_type": "code",
   "execution_count": 19,
   "id": "37d77f75",
   "metadata": {},
   "outputs": [],
   "source": [
    "a = np.arange(10000000, dtype=np.int64)"
   ]
  },
  {
   "cell_type": "code",
   "execution_count": 21,
   "id": "7b3cc04e",
   "metadata": {},
   "outputs": [
    {
     "name": "stdout",
     "output_type": "stream",
     "text": [
      "49999995000000\n",
      "CPU times: total: 3.94 s\n",
      "Wall time: 4.03 s\n"
     ]
    }
   ],
   "source": [
    "%%time\n",
    "result = 0\n",
    "for i in a:\n",
    "    result += i\n",
    "print(result)"
   ]
  },
  {
   "cell_type": "code",
   "execution_count": 22,
   "id": "b5c76c22",
   "metadata": {},
   "outputs": [
    {
     "name": "stdout",
     "output_type": "stream",
     "text": [
      "49999995000000\n",
      "CPU times: total: 15.6 ms\n",
      "Wall time: 18 ms\n"
     ]
    }
   ],
   "source": [
    "%%time\n",
    "result = np.sum(a)\n",
    "print(result)"
   ]
  },
  {
   "cell_type": "markdown",
   "id": "0ebf0256",
   "metadata": {},
   "source": [
    "배열 복사 \n",
    "\n",
    "nbarray 배열 객체에 대한 인덱싱, 슬라이싱이 반환하는 배열은 새로운 객체가 아닌 기존 배열의 view이다. \n",
    "반환된 배열의 값을 변경하면 원본 배열에 변경한 값이 반영된다."
   ]
  },
  {
   "cell_type": "code",
   "execution_count": 26,
   "id": "f5b3ae89",
   "metadata": {},
   "outputs": [
    {
     "name": "stdout",
     "output_type": "stream",
     "text": [
      "[[2 1 6]\n",
      " [0 2 7]\n",
      " [8 4 7]]\n",
      "[2 1 6]\n"
     ]
    }
   ],
   "source": [
    "a = np.random.randint(0, 9, (3, 3))\n",
    "print(a)\n",
    "print(a[0])"
   ]
  },
  {
   "cell_type": "code",
   "execution_count": null,
   "id": "d93818d3",
   "metadata": {},
   "outputs": [],
   "source": []
  },
  {
   "cell_type": "code",
   "execution_count": null,
   "id": "96119c75",
   "metadata": {},
   "outputs": [],
   "source": []
  },
  {
   "cell_type": "code",
   "execution_count": null,
   "id": "68279e48",
   "metadata": {},
   "outputs": [],
   "source": []
  },
  {
   "cell_type": "code",
   "execution_count": null,
   "id": "cfb175c3",
   "metadata": {},
   "outputs": [],
   "source": []
  },
  {
   "cell_type": "code",
   "execution_count": null,
   "id": "af369399",
   "metadata": {},
   "outputs": [],
   "source": []
  },
  {
   "cell_type": "code",
   "execution_count": null,
   "id": "5c835750",
   "metadata": {},
   "outputs": [],
   "source": []
  }
 ],
 "metadata": {
  "kernelspec": {
   "display_name": "Python 3 (ipykernel)",
   "language": "python",
   "name": "python3"
  },
  "language_info": {
   "codemirror_mode": {
    "name": "ipython",
    "version": 3
   },
   "file_extension": ".py",
   "mimetype": "text/x-python",
   "name": "python",
   "nbconvert_exporter": "python",
   "pygments_lexer": "ipython3",
   "version": "3.11.4"
  }
 },
 "nbformat": 4,
 "nbformat_minor": 5
}
